{
 "cells": [
  {
   "cell_type": "markdown",
   "metadata": {},
   "source": [
    "# A) Exo 1 : liste et dictionnaires"
   ]
  },
  {
   "cell_type": "markdown",
   "metadata": {},
   "source": [
    "# Soit une liste :"
   ]
  },
  {
   "cell_type": "code",
   "execution_count": 1,
   "metadata": {},
   "outputs": [],
   "source": [
    "une_liste = [ 2,3,7, None ]"
   ]
  },
  {
   "cell_type": "markdown",
   "metadata": {},
   "source": [
    "# 1) Ajoutez le chiffre 8 en fin"
   ]
  },
  {
   "cell_type": "code",
   "execution_count": 2,
   "metadata": {},
   "outputs": [
    {
     "data": {
      "text/plain": [
       "[2, 3, 7, None, 8]"
      ]
     },
     "execution_count": 2,
     "metadata": {},
     "output_type": "execute_result"
    }
   ],
   "source": [
    "une_liste.append(8)\n",
    "une_liste"
   ]
  },
  {
   "cell_type": "markdown",
   "metadata": {},
   "source": [
    "# 2)  insérez la valeur 4 à la position 2"
   ]
  },
  {
   "cell_type": "code",
   "execution_count": 3,
   "metadata": {},
   "outputs": [
    {
     "data": {
      "text/plain": [
       "[2, 3, 4, 7, None, 8]"
      ]
     },
     "execution_count": 3,
     "metadata": {},
     "output_type": "execute_result"
    }
   ],
   "source": [
    "une_liste.insert(2,4)\n",
    "une_liste"
   ]
  },
  {
   "cell_type": "markdown",
   "metadata": {},
   "source": [
    "# 2) concaténez la liste avec elle même dans une autre liste"
   ]
  },
  {
   "cell_type": "code",
   "execution_count": 4,
   "metadata": {},
   "outputs": [
    {
     "data": {
      "text/plain": [
       "[2, 3, 4, 7, None, 8, 2, 3, 4, 7, None, 8]"
      ]
     },
     "execution_count": 4,
     "metadata": {},
     "output_type": "execute_result"
    }
   ],
   "source": [
    "une_autre_liste = une_liste + une_liste\n",
    "une_autre_liste"
   ]
  },
  {
   "cell_type": "markdown",
   "metadata": {},
   "source": [
    "# 3) étendez la liste avec elle même"
   ]
  },
  {
   "cell_type": "code",
   "execution_count": 5,
   "metadata": {},
   "outputs": [
    {
     "data": {
      "text/plain": [
       "[2, 3, 4, 7, None, 8, 2, 3, 4, 7, None, 8]"
      ]
     },
     "execution_count": 5,
     "metadata": {},
     "output_type": "execute_result"
    }
   ],
   "source": [
    "une_liste.extend(une_liste)\n",
    "une_liste"
   ]
  },
  {
   "cell_type": "markdown",
   "metadata": {},
   "source": [
    "# 2) faites un \"pop\" sur la position 2"
   ]
  },
  {
   "cell_type": "code",
   "execution_count": 6,
   "metadata": {},
   "outputs": [
    {
     "data": {
      "text/plain": [
       "[2, 3, 7, None, 8, 2, 3, 4, 7, None, 8]"
      ]
     },
     "execution_count": 6,
     "metadata": {},
     "output_type": "execute_result"
    }
   ],
   "source": [
    "une_liste.pop(2)\n",
    "une_liste"
   ]
  },
  {
   "cell_type": "markdown",
   "metadata": {},
   "source": [
    "# 3) réinsérez la valeur 4 à la position 2"
   ]
  },
  {
   "cell_type": "code",
   "execution_count": 7,
   "metadata": {},
   "outputs": [
    {
     "data": {
      "text/plain": [
       "[2, 3, 4, 7, None, 8, 2, 3, 4, 7, None, 8]"
      ]
     },
     "execution_count": 7,
     "metadata": {},
     "output_type": "execute_result"
    }
   ],
   "source": [
    "une_liste.insert(2,4)\n",
    "une_liste"
   ]
  },
  {
   "cell_type": "markdown",
   "metadata": {},
   "source": [
    "# 4) faites un remove sur la valeur"
   ]
  },
  {
   "cell_type": "code",
   "execution_count": 8,
   "metadata": {},
   "outputs": [
    {
     "data": {
      "text/plain": [
       "[3, 4, 7, None, 8, 2, 3, 4, 7, None, 8]"
      ]
     },
     "execution_count": 8,
     "metadata": {},
     "output_type": "execute_result"
    }
   ],
   "source": [
    "une_liste.remove(2)\n",
    "une_liste"
   ]
  },
  {
   "cell_type": "markdown",
   "metadata": {},
   "source": [
    "# 5) triez la liste en mettant les None à la fin "
   ]
  },
  {
   "cell_type": "code",
   "execution_count": 9,
   "metadata": {},
   "outputs": [
    {
     "data": {
      "text/plain": [
       "[3, 4, 7, 8, 2, 3, 4, 7, 8, None, None]"
      ]
     },
     "execution_count": 9,
     "metadata": {},
     "output_type": "execute_result"
    }
   ],
   "source": [
    "une_liste.sort(key= lambda value:value == None)\n",
    "une_liste"
   ]
  },
  {
   "cell_type": "markdown",
   "metadata": {},
   "source": [
    "# 6) Définissez une Fonction square renvoyant le carré d'un chiffre"
   ]
  },
  {
   "cell_type": "code",
   "execution_count": 10,
   "metadata": {},
   "outputs": [],
   "source": [
    "def square(number):\n",
    "    return number ** 2"
   ]
  },
  {
   "cell_type": "markdown",
   "metadata": {},
   "source": [
    "## 6.1) testez sur le nombre 3 => doit renvoyer 9"
   ]
  },
  {
   "cell_type": "code",
   "execution_count": 11,
   "metadata": {},
   "outputs": [
    {
     "name": "stdout",
     "output_type": "stream",
     "text": [
      "9\n"
     ]
    }
   ],
   "source": [
    "print(square(3))"
   ]
  },
  {
   "cell_type": "markdown",
   "metadata": {},
   "source": [
    "# 6.2) appliquez la fonction sur une liste, avec la fonction map"
   ]
  },
  {
   "cell_type": "code",
   "execution_count": 12,
   "metadata": {
    "scrolled": false
   },
   "outputs": [
    {
     "name": "stdout",
     "output_type": "stream",
     "text": [
      "[1, 4, 9, 0, 1]\n"
     ]
    }
   ],
   "source": [
    "liste_non_square = [1,2,3,0,-1]\n",
    "print(list(map(square,liste_non_square)))"
   ]
  },
  {
   "cell_type": "markdown",
   "metadata": {},
   "source": [
    "## 6.3) faites la même chose via une lambda function"
   ]
  },
  {
   "cell_type": "code",
   "execution_count": 13,
   "metadata": {},
   "outputs": [
    {
     "name": "stdout",
     "output_type": "stream",
     "text": [
      "[1, 4, 9, 0, 1]\n"
     ]
    }
   ],
   "source": [
    "print(list(map(lambda number:number ** 2,liste_non_square)))"
   ]
  },
  {
   "cell_type": "markdown",
   "metadata": {},
   "source": [
    "# 7) utilisez \"enumerate\" sur la variable \"mot\" pour afficher la position de chaque lettre"
   ]
  },
  {
   "cell_type": "code",
   "execution_count": 14,
   "metadata": {},
   "outputs": [
    {
     "name": "stdout",
     "output_type": "stream",
     "text": [
      "Lettre  m à la position :  0\n",
      "Lettre  o à la position :  1\n",
      "Lettre  t à la position :  2\n"
     ]
    }
   ],
   "source": [
    "for position, letter in enumerate('mot'):\n",
    "    print('Lettre ', letter, 'à la position : ', position)"
   ]
  },
  {
   "cell_type": "markdown",
   "metadata": {},
   "source": [
    "# 8) utiliser la fonction \"Filter\" "
   ]
  },
  {
   "cell_type": "code",
   "execution_count": 15,
   "metadata": {},
   "outputs": [
    {
     "name": "stdout",
     "output_type": "stream",
     "text": [
      "[3, 4, 7, 8, 2, 3, 4, 7, 8]\n"
     ]
    }
   ],
   "source": [
    "print(list(filter(lambda value:value != None, une_liste)))"
   ]
  },
  {
   "cell_type": "markdown",
   "metadata": {},
   "source": [
    "## 8.1) créez une fonction \"est_positif\" qui teste si un nombre est supérieur à zéro"
   ]
  },
  {
   "cell_type": "code",
   "execution_count": 16,
   "metadata": {},
   "outputs": [],
   "source": [
    "def est_positif(number)->bool:\n",
    "    return 0<number"
   ]
  },
  {
   "cell_type": "markdown",
   "metadata": {},
   "source": [
    "## 8.2) filtrez la liste avec la fonction est_positif en utilisant \"filter\""
   ]
  },
  {
   "cell_type": "code",
   "execution_count": 17,
   "metadata": {},
   "outputs": [
    {
     "name": "stdout",
     "output_type": "stream",
     "text": [
      "[1, 2, 3]\n"
     ]
    }
   ],
   "source": [
    "print(list(filter(est_positif, liste_non_square)))"
   ]
  },
  {
   "cell_type": "markdown",
   "metadata": {},
   "source": [
    "## 8.3) faites la même chose via une lambda fonction"
   ]
  },
  {
   "cell_type": "code",
   "execution_count": 18,
   "metadata": {},
   "outputs": [
    {
     "name": "stdout",
     "output_type": "stream",
     "text": [
      "[1, 2, 3]\n"
     ]
    }
   ],
   "source": [
    "\n",
    "print(list(filter(lambda number:0<number, liste_non_square)))"
   ]
  },
  {
   "cell_type": "markdown",
   "metadata": {},
   "source": [
    "# 9) Dictionnaire"
   ]
  },
  {
   "cell_type": "code",
   "execution_count": 19,
   "metadata": {},
   "outputs": [],
   "source": [
    "def usethis(akey):\n",
    "    return states[akey]\n",
    "\n",
    "states= {'New Hampshire':'NH', 'Maryland':'MD',\n",
    "              'Nevada':'NV', 'Maine':'ME'}\n"
   ]
  },
  {
   "cell_type": "markdown",
   "metadata": {},
   "source": [
    "## 9.1) listez les clefs du dico dans une liste long_names\n"
   ]
  },
  {
   "cell_type": "code",
   "execution_count": 20,
   "metadata": {},
   "outputs": [
    {
     "data": {
      "text/plain": [
       "['New Hampshire', 'Maryland', 'Nevada', 'Maine']"
      ]
     },
     "execution_count": 20,
     "metadata": {},
     "output_type": "execute_result"
    }
   ],
   "source": [
    "long_names = list(states.keys())\n",
    "long_names"
   ]
  },
  {
   "cell_type": "markdown",
   "metadata": {},
   "source": [
    "## 9.2) triez la liste long_names selon les valeurs associées aux clefs du dico => utilisez usethis"
   ]
  },
  {
   "cell_type": "code",
   "execution_count": 21,
   "metadata": {},
   "outputs": [
    {
     "data": {
      "text/plain": [
       "['Maryland', 'Maine', 'New Hampshire', 'Nevada']"
      ]
     },
     "execution_count": 21,
     "metadata": {},
     "output_type": "execute_result"
    }
   ],
   "source": [
    "long_names.sort(key=usethis)\n",
    "long_names"
   ]
  },
  {
   "cell_type": "markdown",
   "metadata": {},
   "source": [
    "## 9.3) utilisez la liste triéez pour afficher le dico dans l'ordre alphabétique des abbréviations des états (boucle for + print)"
   ]
  },
  {
   "cell_type": "code",
   "execution_count": 22,
   "metadata": {},
   "outputs": [
    {
     "name": "stdout",
     "output_type": "stream",
     "text": [
      "{'Maryland': 'MD', 'Maine': 'ME', 'New Hampshire': 'NH', 'Nevada': 'NV'}\n"
     ]
    }
   ],
   "source": [
    "print({ i:states[i] for i in long_names})"
   ]
  },
  {
   "cell_type": "markdown",
   "metadata": {},
   "source": [
    "# B) Exo 2 : pandas et dataviz"
   ]
  },
  {
   "cell_type": "markdown",
   "metadata": {},
   "source": [
    "# Base de données accidents corporels de la circulation\n",
    "https://www.data.gouv.fr/fr/datasets/base-de-donnees-accidents-corporels-de-la-circulation/\n",
    "\n",
    "Ce jeu de données provient d'un service public certifié\n",
    " NEC MERGITUR\n",
    "Pour chaque accident corporel (soit un accident survenu sur une voie ouverte à la circulation publique, impliquant au moins un véhicule et ayant fait au moins une victime ayant nécessité des soins), des saisies d’information décrivant l’accident sont effectuées par l’unité des forces de l’ordre (police, gendarmerie, etc.) qui est intervenue sur le lieu de l’accident. Ces saisies sont rassemblées dans une fiche intitulée bulletin d’analyse des accidents corporels. L’ensemble de ces fiches constitue le fichier national des accidents corporels de la circulation dit \" Fichier BAAC \" administré par l’Observatoire national interministériel de la sécurité routière \"ONISR\".\n",
    "\n",
    "Les bases de données, extraites du fichier BAAC, répertorient l'intégralité des accidents corporels de la circulation intervenus durant une année précise en France métropolitaine ainsi que les départements d’Outre-mer (Guadeloupe, Guyane, Martinique, La Réunion et Mayotte depuis 2012) avec une description simplifiée. Cela comprend des informations de localisation de l’accident, telles que renseignées ainsi que des informations concernant les caractéristiques de l’accident et son lieu, les véhicules impliqués et leurs victimes.\n",
    "\n",
    "Par rapport aux bases de données agrégées 2005-2010 et 2006-2011 actuellement disponibles sur le site www.data.gouv.fr, les bases de données de 2005 à 2016 sont désormais annuelles et composées de 4 fichiers (Caractéristiques – Lieux – Véhicules – Usagers ) au format csv.\n",
    "\n",
    "Ces bases occultent néanmoins certaines données spécifiques relatives aux usagers et aux véhicules et à leur comportement dans la mesure où la divulgation de ces données porterait atteinte à la protection de la vie privée des personnes physiques aisément identifiables ou ferait apparaître le comportement de telles personnes alors que la divulgation de ce comportement pourrait leur porter préjudice (avis de la CADA – 2 janvier 2012)."
   ]
  },
  {
   "cell_type": "markdown",
   "metadata": {},
   "source": [
    "# Téléchargement de la documentation\n",
    "https://www.data.gouv.fr/fr/datasets/r/36496bab-a042-47bf-b08b-3c7467f2bddf"
   ]
  },
  {
   "cell_type": "markdown",
   "metadata": {},
   "source": [
    "# -1) imports"
   ]
  },
  {
   "cell_type": "code",
   "execution_count": 23,
   "metadata": {},
   "outputs": [],
   "source": [
    "%matplotlib inline\n",
    "import seaborn as sns"
   ]
  },
  {
   "cell_type": "code",
   "execution_count": 24,
   "metadata": {},
   "outputs": [],
   "source": [
    "import pandas as pd"
   ]
  },
  {
   "cell_type": "markdown",
   "metadata": {},
   "source": [
    "# 0) utilisez pandas pour télécharger les données "
   ]
  },
  {
   "cell_type": "code",
   "execution_count": 25,
   "metadata": {},
   "outputs": [
    {
     "data": {
      "text/html": [
       "<div>\n",
       "<style scoped>\n",
       "    .dataframe tbody tr th:only-of-type {\n",
       "        vertical-align: middle;\n",
       "    }\n",
       "\n",
       "    .dataframe tbody tr th {\n",
       "        vertical-align: top;\n",
       "    }\n",
       "\n",
       "    .dataframe thead th {\n",
       "        text-align: right;\n",
       "    }\n",
       "</style>\n",
       "<table border=\"1\" class=\"dataframe\">\n",
       "  <thead>\n",
       "    <tr style=\"text-align: right;\">\n",
       "      <th></th>\n",
       "      <th>Num_Acc</th>\n",
       "      <th>senc</th>\n",
       "      <th>catv</th>\n",
       "      <th>occutc</th>\n",
       "      <th>obs</th>\n",
       "      <th>obsm</th>\n",
       "      <th>choc</th>\n",
       "      <th>manv</th>\n",
       "      <th>num_veh</th>\n",
       "    </tr>\n",
       "  </thead>\n",
       "  <tbody>\n",
       "    <tr>\n",
       "      <th>0</th>\n",
       "      <td>201600000001</td>\n",
       "      <td>0.0</td>\n",
       "      <td>7</td>\n",
       "      <td>0</td>\n",
       "      <td>0.0</td>\n",
       "      <td>0.0</td>\n",
       "      <td>1.0</td>\n",
       "      <td>1.0</td>\n",
       "      <td>B02</td>\n",
       "    </tr>\n",
       "    <tr>\n",
       "      <th>1</th>\n",
       "      <td>201600000001</td>\n",
       "      <td>0.0</td>\n",
       "      <td>2</td>\n",
       "      <td>0</td>\n",
       "      <td>0.0</td>\n",
       "      <td>0.0</td>\n",
       "      <td>7.0</td>\n",
       "      <td>15.0</td>\n",
       "      <td>A01</td>\n",
       "    </tr>\n",
       "    <tr>\n",
       "      <th>2</th>\n",
       "      <td>201600000002</td>\n",
       "      <td>0.0</td>\n",
       "      <td>7</td>\n",
       "      <td>0</td>\n",
       "      <td>6.0</td>\n",
       "      <td>0.0</td>\n",
       "      <td>1.0</td>\n",
       "      <td>1.0</td>\n",
       "      <td>A01</td>\n",
       "    </tr>\n",
       "    <tr>\n",
       "      <th>3</th>\n",
       "      <td>201600000003</td>\n",
       "      <td>0.0</td>\n",
       "      <td>7</td>\n",
       "      <td>0</td>\n",
       "      <td>0.0</td>\n",
       "      <td>1.0</td>\n",
       "      <td>6.0</td>\n",
       "      <td>1.0</td>\n",
       "      <td>A01</td>\n",
       "    </tr>\n",
       "    <tr>\n",
       "      <th>4</th>\n",
       "      <td>201600000004</td>\n",
       "      <td>0.0</td>\n",
       "      <td>32</td>\n",
       "      <td>0</td>\n",
       "      <td>0.0</td>\n",
       "      <td>0.0</td>\n",
       "      <td>1.0</td>\n",
       "      <td>1.0</td>\n",
       "      <td>B02</td>\n",
       "    </tr>\n",
       "  </tbody>\n",
       "</table>\n",
       "</div>"
      ],
      "text/plain": [
       "        Num_Acc  senc  catv  occutc  obs  obsm  choc  manv num_veh\n",
       "0  201600000001   0.0     7       0  0.0   0.0   1.0   1.0     B02\n",
       "1  201600000001   0.0     2       0  0.0   0.0   7.0  15.0     A01\n",
       "2  201600000002   0.0     7       0  6.0   0.0   1.0   1.0     A01\n",
       "3  201600000003   0.0     7       0  0.0   1.0   6.0   1.0     A01\n",
       "4  201600000004   0.0    32       0  0.0   0.0   1.0   1.0     B02"
      ]
     },
     "execution_count": 25,
     "metadata": {},
     "output_type": "execute_result"
    }
   ],
   "source": [
    "path_vehicule = \"https://www.data.gouv.fr/fr/datasets/r/be2191a6-a7cd-446f-a9fc-8d698688eb9e\"\n",
    "vehicules_2016 = pd.read_csv(path_vehicule, encoding=\"latin1\")\n",
    "vehicules_2016.head()"
   ]
  },
  {
   "cell_type": "markdown",
   "metadata": {},
   "source": [
    "# 1) Renommez les colonnes avec des mots compréhensibles (regarder la doc) "
   ]
  },
  {
   "cell_type": "code",
   "execution_count": 26,
   "metadata": {},
   "outputs": [
    {
     "data": {
      "text/html": [
       "<div>\n",
       "<style scoped>\n",
       "    .dataframe tbody tr th:only-of-type {\n",
       "        vertical-align: middle;\n",
       "    }\n",
       "\n",
       "    .dataframe tbody tr th {\n",
       "        vertical-align: top;\n",
       "    }\n",
       "\n",
       "    .dataframe thead th {\n",
       "        text-align: right;\n",
       "    }\n",
       "</style>\n",
       "<table border=\"1\" class=\"dataframe\">\n",
       "  <thead>\n",
       "    <tr style=\"text-align: right;\">\n",
       "      <th></th>\n",
       "      <th>Identifiant_accident</th>\n",
       "      <th>Sens_circulation</th>\n",
       "      <th>Catégorie_véhicule</th>\n",
       "      <th>Nombre_occupants</th>\n",
       "      <th>Obstacle_fixe_heurté</th>\n",
       "      <th>Obstacle_mobile_heurté</th>\n",
       "      <th>Point_de_choc_initial</th>\n",
       "      <th>Manoeuvre_princpale_pré-accident</th>\n",
       "      <th>Identifiant_véhicule</th>\n",
       "    </tr>\n",
       "  </thead>\n",
       "  <tbody>\n",
       "    <tr>\n",
       "      <th>0</th>\n",
       "      <td>201600000001</td>\n",
       "      <td>0.0</td>\n",
       "      <td>7</td>\n",
       "      <td>0</td>\n",
       "      <td>0.0</td>\n",
       "      <td>0.0</td>\n",
       "      <td>1.0</td>\n",
       "      <td>1.0</td>\n",
       "      <td>B02</td>\n",
       "    </tr>\n",
       "    <tr>\n",
       "      <th>1</th>\n",
       "      <td>201600000001</td>\n",
       "      <td>0.0</td>\n",
       "      <td>2</td>\n",
       "      <td>0</td>\n",
       "      <td>0.0</td>\n",
       "      <td>0.0</td>\n",
       "      <td>7.0</td>\n",
       "      <td>15.0</td>\n",
       "      <td>A01</td>\n",
       "    </tr>\n",
       "    <tr>\n",
       "      <th>2</th>\n",
       "      <td>201600000002</td>\n",
       "      <td>0.0</td>\n",
       "      <td>7</td>\n",
       "      <td>0</td>\n",
       "      <td>6.0</td>\n",
       "      <td>0.0</td>\n",
       "      <td>1.0</td>\n",
       "      <td>1.0</td>\n",
       "      <td>A01</td>\n",
       "    </tr>\n",
       "    <tr>\n",
       "      <th>3</th>\n",
       "      <td>201600000003</td>\n",
       "      <td>0.0</td>\n",
       "      <td>7</td>\n",
       "      <td>0</td>\n",
       "      <td>0.0</td>\n",
       "      <td>1.0</td>\n",
       "      <td>6.0</td>\n",
       "      <td>1.0</td>\n",
       "      <td>A01</td>\n",
       "    </tr>\n",
       "    <tr>\n",
       "      <th>4</th>\n",
       "      <td>201600000004</td>\n",
       "      <td>0.0</td>\n",
       "      <td>32</td>\n",
       "      <td>0</td>\n",
       "      <td>0.0</td>\n",
       "      <td>0.0</td>\n",
       "      <td>1.0</td>\n",
       "      <td>1.0</td>\n",
       "      <td>B02</td>\n",
       "    </tr>\n",
       "  </tbody>\n",
       "</table>\n",
       "</div>"
      ],
      "text/plain": [
       "   Identifiant_accident  Sens_circulation  Catégorie_véhicule  \\\n",
       "0          201600000001               0.0                   7   \n",
       "1          201600000001               0.0                   2   \n",
       "2          201600000002               0.0                   7   \n",
       "3          201600000003               0.0                   7   \n",
       "4          201600000004               0.0                  32   \n",
       "\n",
       "   Nombre_occupants  Obstacle_fixe_heurté  Obstacle_mobile_heurté  \\\n",
       "0                 0                   0.0                     0.0   \n",
       "1                 0                   0.0                     0.0   \n",
       "2                 0                   6.0                     0.0   \n",
       "3                 0                   0.0                     1.0   \n",
       "4                 0                   0.0                     0.0   \n",
       "\n",
       "   Point_de_choc_initial  Manoeuvre_princpale_pré-accident  \\\n",
       "0                    1.0                               1.0   \n",
       "1                    7.0                              15.0   \n",
       "2                    1.0                               1.0   \n",
       "3                    6.0                               1.0   \n",
       "4                    1.0                               1.0   \n",
       "\n",
       "  Identifiant_véhicule  \n",
       "0                  B02  \n",
       "1                  A01  \n",
       "2                  A01  \n",
       "3                  A01  \n",
       "4                  B02  "
      ]
     },
     "execution_count": 26,
     "metadata": {},
     "output_type": "execute_result"
    }
   ],
   "source": [
    "vehicules_2016.columns = ['Identifiant_accident', 'Sens_circulation', 'Catégorie_véhicule', 'Nombre_occupants', 'Obstacle_fixe_heurté', 'Obstacle_mobile_heurté', 'Point_de_choc_initial', 'Manoeuvre_princpale_pré-accident','Identifiant_véhicule']\n",
    "vehicules_2016.head()"
   ]
  },
  {
   "cell_type": "markdown",
   "metadata": {},
   "source": [
    "# 1.1) affichez le nombre de lignes et de colonnes"
   ]
  },
  {
   "cell_type": "code",
   "execution_count": 27,
   "metadata": {},
   "outputs": [
    {
     "name": "stdout",
     "output_type": "stream",
     "text": [
      "nombre colonnes: 9 Nombre lignes :  101924\n"
     ]
    }
   ],
   "source": [
    "print(\"nombre colonnes:\",vehicules_2016.shape[1], \"Nombre lignes : \",vehicules_2016.shape[0])"
   ]
  },
  {
   "cell_type": "markdown",
   "metadata": {},
   "source": [
    "# 2) Faites un groupby pour avoir le nombre d'accident par catégorie de véhicule et nombre d'occupants"
   ]
  },
  {
   "cell_type": "code",
   "execution_count": 28,
   "metadata": {},
   "outputs": [
    {
     "data": {
      "text/plain": [
       "Catégorie_véhicule  Nombre_occupants\n",
       "1                   0                    4705\n",
       "2                   0                    3424\n",
       "3                   0                     436\n",
       "7                   0                   64641\n",
       "10                  0                    5584\n",
       "                                        ...  \n",
       "40                  140                     1\n",
       "                    150                     2\n",
       "                    200                     1\n",
       "                    210                     1\n",
       "99                  0                     202\n",
       "Name: Identifiant_accident, Length: 121, dtype: int64"
      ]
     },
     "execution_count": 28,
     "metadata": {},
     "output_type": "execute_result"
    }
   ],
   "source": [
    "vehicules_2016.groupby(by=[\"Catégorie_véhicule\", \"Nombre_occupants\"])[\"Identifiant_accident\"].count()"
   ]
  },
  {
   "cell_type": "markdown",
   "metadata": {},
   "source": [
    "## 2.1) affichez la dataframe hors catégorie de véhicule n° 7"
   ]
  },
  {
   "cell_type": "code",
   "execution_count": 29,
   "metadata": {},
   "outputs": [
    {
     "data": {
      "text/html": [
       "<div>\n",
       "<style scoped>\n",
       "    .dataframe tbody tr th:only-of-type {\n",
       "        vertical-align: middle;\n",
       "    }\n",
       "\n",
       "    .dataframe tbody tr th {\n",
       "        vertical-align: top;\n",
       "    }\n",
       "\n",
       "    .dataframe thead th {\n",
       "        text-align: right;\n",
       "    }\n",
       "</style>\n",
       "<table border=\"1\" class=\"dataframe\">\n",
       "  <thead>\n",
       "    <tr style=\"text-align: right;\">\n",
       "      <th></th>\n",
       "      <th>Identifiant_accident</th>\n",
       "      <th>Sens_circulation</th>\n",
       "      <th>Catégorie_véhicule</th>\n",
       "      <th>Nombre_occupants</th>\n",
       "      <th>Obstacle_fixe_heurté</th>\n",
       "      <th>Obstacle_mobile_heurté</th>\n",
       "      <th>Point_de_choc_initial</th>\n",
       "      <th>Manoeuvre_princpale_pré-accident</th>\n",
       "      <th>Identifiant_véhicule</th>\n",
       "    </tr>\n",
       "  </thead>\n",
       "  <tbody>\n",
       "    <tr>\n",
       "      <th>1</th>\n",
       "      <td>201600000001</td>\n",
       "      <td>0.0</td>\n",
       "      <td>2</td>\n",
       "      <td>0</td>\n",
       "      <td>0.0</td>\n",
       "      <td>0.0</td>\n",
       "      <td>7.0</td>\n",
       "      <td>15.0</td>\n",
       "      <td>A01</td>\n",
       "    </tr>\n",
       "    <tr>\n",
       "      <th>4</th>\n",
       "      <td>201600000004</td>\n",
       "      <td>0.0</td>\n",
       "      <td>32</td>\n",
       "      <td>0</td>\n",
       "      <td>0.0</td>\n",
       "      <td>0.0</td>\n",
       "      <td>1.0</td>\n",
       "      <td>1.0</td>\n",
       "      <td>B02</td>\n",
       "    </tr>\n",
       "    <tr>\n",
       "      <th>6</th>\n",
       "      <td>201600000005</td>\n",
       "      <td>0.0</td>\n",
       "      <td>30</td>\n",
       "      <td>0</td>\n",
       "      <td>0.0</td>\n",
       "      <td>2.0</td>\n",
       "      <td>1.0</td>\n",
       "      <td>15.0</td>\n",
       "      <td>B02</td>\n",
       "    </tr>\n",
       "    <tr>\n",
       "      <th>9</th>\n",
       "      <td>201600000007</td>\n",
       "      <td>1.0</td>\n",
       "      <td>30</td>\n",
       "      <td>0</td>\n",
       "      <td>0.0</td>\n",
       "      <td>0.0</td>\n",
       "      <td>3.0</td>\n",
       "      <td>15.0</td>\n",
       "      <td>A01</td>\n",
       "    </tr>\n",
       "    <tr>\n",
       "      <th>14</th>\n",
       "      <td>201600000009</td>\n",
       "      <td>0.0</td>\n",
       "      <td>30</td>\n",
       "      <td>0</td>\n",
       "      <td>0.0</td>\n",
       "      <td>0.0</td>\n",
       "      <td>2.0</td>\n",
       "      <td>1.0</td>\n",
       "      <td>B02</td>\n",
       "    </tr>\n",
       "    <tr>\n",
       "      <th>...</th>\n",
       "      <td>...</td>\n",
       "      <td>...</td>\n",
       "      <td>...</td>\n",
       "      <td>...</td>\n",
       "      <td>...</td>\n",
       "      <td>...</td>\n",
       "      <td>...</td>\n",
       "      <td>...</td>\n",
       "      <td>...</td>\n",
       "    </tr>\n",
       "    <tr>\n",
       "      <th>101917</th>\n",
       "      <td>201600059429</td>\n",
       "      <td>2.0</td>\n",
       "      <td>30</td>\n",
       "      <td>0</td>\n",
       "      <td>11.0</td>\n",
       "      <td>0.0</td>\n",
       "      <td>1.0</td>\n",
       "      <td>14.0</td>\n",
       "      <td>A01</td>\n",
       "    </tr>\n",
       "    <tr>\n",
       "      <th>101919</th>\n",
       "      <td>201600059430</td>\n",
       "      <td>1.0</td>\n",
       "      <td>30</td>\n",
       "      <td>0</td>\n",
       "      <td>0.0</td>\n",
       "      <td>2.0</td>\n",
       "      <td>1.0</td>\n",
       "      <td>17.0</td>\n",
       "      <td>B01</td>\n",
       "    </tr>\n",
       "    <tr>\n",
       "      <th>101920</th>\n",
       "      <td>201600059431</td>\n",
       "      <td>2.0</td>\n",
       "      <td>30</td>\n",
       "      <td>0</td>\n",
       "      <td>0.0</td>\n",
       "      <td>2.0</td>\n",
       "      <td>7.0</td>\n",
       "      <td>15.0</td>\n",
       "      <td>A01</td>\n",
       "    </tr>\n",
       "    <tr>\n",
       "      <th>101921</th>\n",
       "      <td>201600059431</td>\n",
       "      <td>1.0</td>\n",
       "      <td>30</td>\n",
       "      <td>0</td>\n",
       "      <td>0.0</td>\n",
       "      <td>2.0</td>\n",
       "      <td>1.0</td>\n",
       "      <td>1.0</td>\n",
       "      <td>B01</td>\n",
       "    </tr>\n",
       "    <tr>\n",
       "      <th>101922</th>\n",
       "      <td>201600059432</td>\n",
       "      <td>1.0</td>\n",
       "      <td>2</td>\n",
       "      <td>0</td>\n",
       "      <td>0.0</td>\n",
       "      <td>2.0</td>\n",
       "      <td>7.0</td>\n",
       "      <td>1.0</td>\n",
       "      <td>A01</td>\n",
       "    </tr>\n",
       "  </tbody>\n",
       "</table>\n",
       "<p>37283 rows × 9 columns</p>\n",
       "</div>"
      ],
      "text/plain": [
       "        Identifiant_accident  Sens_circulation  Catégorie_véhicule  \\\n",
       "1               201600000001               0.0                   2   \n",
       "4               201600000004               0.0                  32   \n",
       "6               201600000005               0.0                  30   \n",
       "9               201600000007               1.0                  30   \n",
       "14              201600000009               0.0                  30   \n",
       "...                      ...               ...                 ...   \n",
       "101917          201600059429               2.0                  30   \n",
       "101919          201600059430               1.0                  30   \n",
       "101920          201600059431               2.0                  30   \n",
       "101921          201600059431               1.0                  30   \n",
       "101922          201600059432               1.0                   2   \n",
       "\n",
       "        Nombre_occupants  Obstacle_fixe_heurté  Obstacle_mobile_heurté  \\\n",
       "1                      0                   0.0                     0.0   \n",
       "4                      0                   0.0                     0.0   \n",
       "6                      0                   0.0                     2.0   \n",
       "9                      0                   0.0                     0.0   \n",
       "14                     0                   0.0                     0.0   \n",
       "...                  ...                   ...                     ...   \n",
       "101917                 0                  11.0                     0.0   \n",
       "101919                 0                   0.0                     2.0   \n",
       "101920                 0                   0.0                     2.0   \n",
       "101921                 0                   0.0                     2.0   \n",
       "101922                 0                   0.0                     2.0   \n",
       "\n",
       "        Point_de_choc_initial  Manoeuvre_princpale_pré-accident  \\\n",
       "1                         7.0                              15.0   \n",
       "4                         1.0                               1.0   \n",
       "6                         1.0                              15.0   \n",
       "9                         3.0                              15.0   \n",
       "14                        2.0                               1.0   \n",
       "...                       ...                               ...   \n",
       "101917                    1.0                              14.0   \n",
       "101919                    1.0                              17.0   \n",
       "101920                    7.0                              15.0   \n",
       "101921                    1.0                               1.0   \n",
       "101922                    7.0                               1.0   \n",
       "\n",
       "       Identifiant_véhicule  \n",
       "1                       A01  \n",
       "4                       B02  \n",
       "6                       B02  \n",
       "9                       A01  \n",
       "14                      B02  \n",
       "...                     ...  \n",
       "101917                  A01  \n",
       "101919                  B01  \n",
       "101920                  A01  \n",
       "101921                  B01  \n",
       "101922                  A01  \n",
       "\n",
       "[37283 rows x 9 columns]"
      ]
     },
     "execution_count": 29,
     "metadata": {},
     "output_type": "execute_result"
    }
   ],
   "source": [
    "mask = vehicules_2016.Catégorie_véhicule != 7\n",
    "vehicules_2016[mask]\n"
   ]
  },
  {
   "cell_type": "markdown",
   "metadata": {},
   "source": [
    "## 2.2) faite un pivot table sur les véhicules hors catégorie !7 \n",
    "index => Catégorie de véhicule  \n",
    "colonne => nb d'occupant  \n",
    "valeurs => nb d'accidents  \n",
    "valeur_par_défaut => 0  "
   ]
  },
  {
   "cell_type": "code",
   "execution_count": 30,
   "metadata": {},
   "outputs": [],
   "source": [
    "pivot = pd.pivot_table(vehicules_2016[mask],index=[\"Catégorie_véhicule\"],columns=\"Nombre_occupants\", fill_value=0, values='Identifiant_accident', aggfunc=\"count\")\n",
    "# vehicules_2016[mask].pivot_table(index=[\"Catégorie_véhicule\"],columns=\"Nombre_occupants\", fill_value=0, values=\"Identifiant_accident\" )"
   ]
  },
  {
   "cell_type": "markdown",
   "metadata": {},
   "source": [
    "## 2.3) utilisez la fonction heatmap de seaborn pour lui passer en paramètre votre pivot"
   ]
  },
  {
   "cell_type": "code",
   "execution_count": 31,
   "metadata": {},
   "outputs": [
    {
     "data": {
      "text/plain": [
       "<AxesSubplot:xlabel='Nombre_occupants', ylabel='Catégorie_véhicule'>"
      ]
     },
     "execution_count": 31,
     "metadata": {},
     "output_type": "execute_result"
    },
    {
     "data": {
      "image/png": "[encoded data removed]",
      "text/plain": [
       "<Figure size 432x288 with 2 Axes>"
      ]
     },
     "metadata": {
      "needs_background": "light"
     },
     "output_type": "display_data"
    }
   ],
   "source": [
    "import seaborn as sns\n",
    "\n",
    "sns.heatmap(pivot)"
   ]
  },
  {
   "cell_type": "markdown",
   "metadata": {},
   "source": [
    "# 3) transports en communs"
   ]
  },
  {
   "cell_type": "code",
   "execution_count": 32,
   "metadata": {},
   "outputs": [],
   "source": [
    "cat_transports_en_commun = [37, 38, 39, 40]"
   ]
  },
  {
   "cell_type": "markdown",
   "metadata": {},
   "source": [
    "## 3.1)  Crééez une colonne \"transport_en_commun\" qui est un booléen "
   ]
  },
  {
   "cell_type": "code",
   "execution_count": 33,
   "metadata": {},
   "outputs": [],
   "source": [
    "vehicules_2016[\"transport_en_commun\"] = vehicules_2016[\"Catégorie_véhicule\"] == 40"
   ]
  },
  {
   "cell_type": "code",
   "execution_count": null,
   "metadata": {},
   "outputs": [],
   "source": []
  },
  {
   "cell_type": "markdown",
   "metadata": {},
   "source": [
    "## 3.2) créez une dataframe  df_transport_en_commun qui ne contient que les lignes de véhicules de transports en commun"
   ]
  },
  {
   "cell_type": "code",
   "execution_count": 34,
   "metadata": {},
   "outputs": [
    {
     "data": {
      "text/html": [
       "<div>\n",
       "<style scoped>\n",
       "    .dataframe tbody tr th:only-of-type {\n",
       "        vertical-align: middle;\n",
       "    }\n",
       "\n",
       "    .dataframe tbody tr th {\n",
       "        vertical-align: top;\n",
       "    }\n",
       "\n",
       "    .dataframe thead th {\n",
       "        text-align: right;\n",
       "    }\n",
       "</style>\n",
       "<table border=\"1\" class=\"dataframe\">\n",
       "  <thead>\n",
       "    <tr style=\"text-align: right;\">\n",
       "      <th></th>\n",
       "      <th>Identifiant_accident</th>\n",
       "      <th>Sens_circulation</th>\n",
       "      <th>Catégorie_véhicule</th>\n",
       "      <th>Nombre_occupants</th>\n",
       "      <th>Obstacle_fixe_heurté</th>\n",
       "      <th>Obstacle_mobile_heurté</th>\n",
       "      <th>Point_de_choc_initial</th>\n",
       "      <th>Manoeuvre_princpale_pré-accident</th>\n",
       "      <th>Identifiant_véhicule</th>\n",
       "      <th>transport_en_commun</th>\n",
       "    </tr>\n",
       "  </thead>\n",
       "  <tbody>\n",
       "    <tr>\n",
       "      <th>14057</th>\n",
       "      <td>201600008652</td>\n",
       "      <td>0.0</td>\n",
       "      <td>40</td>\n",
       "      <td>0</td>\n",
       "      <td>0.0</td>\n",
       "      <td>2.0</td>\n",
       "      <td>1.0</td>\n",
       "      <td>1.0</td>\n",
       "      <td>B02</td>\n",
       "      <td>True</td>\n",
       "    </tr>\n",
       "    <tr>\n",
       "      <th>14059</th>\n",
       "      <td>201600008653</td>\n",
       "      <td>1.0</td>\n",
       "      <td>40</td>\n",
       "      <td>0</td>\n",
       "      <td>0.0</td>\n",
       "      <td>2.0</td>\n",
       "      <td>2.0</td>\n",
       "      <td>1.0</td>\n",
       "      <td>A01</td>\n",
       "      <td>True</td>\n",
       "    </tr>\n",
       "    <tr>\n",
       "      <th>14062</th>\n",
       "      <td>201600008655</td>\n",
       "      <td>0.0</td>\n",
       "      <td>40</td>\n",
       "      <td>0</td>\n",
       "      <td>0.0</td>\n",
       "      <td>1.0</td>\n",
       "      <td>2.0</td>\n",
       "      <td>1.0</td>\n",
       "      <td>A01</td>\n",
       "      <td>True</td>\n",
       "    </tr>\n",
       "    <tr>\n",
       "      <th>17797</th>\n",
       "      <td>201600010923</td>\n",
       "      <td>0.0</td>\n",
       "      <td>40</td>\n",
       "      <td>1</td>\n",
       "      <td>0.0</td>\n",
       "      <td>1.0</td>\n",
       "      <td>2.0</td>\n",
       "      <td>1.0</td>\n",
       "      <td>A01</td>\n",
       "      <td>True</td>\n",
       "    </tr>\n",
       "    <tr>\n",
       "      <th>18126</th>\n",
       "      <td>201600011097</td>\n",
       "      <td>1.0</td>\n",
       "      <td>40</td>\n",
       "      <td>0</td>\n",
       "      <td>0.0</td>\n",
       "      <td>2.0</td>\n",
       "      <td>1.0</td>\n",
       "      <td>1.0</td>\n",
       "      <td>B01</td>\n",
       "      <td>True</td>\n",
       "    </tr>\n",
       "    <tr>\n",
       "      <th>...</th>\n",
       "      <td>...</td>\n",
       "      <td>...</td>\n",
       "      <td>...</td>\n",
       "      <td>...</td>\n",
       "      <td>...</td>\n",
       "      <td>...</td>\n",
       "      <td>...</td>\n",
       "      <td>...</td>\n",
       "      <td>...</td>\n",
       "      <td>...</td>\n",
       "    </tr>\n",
       "    <tr>\n",
       "      <th>84851</th>\n",
       "      <td>201600049623</td>\n",
       "      <td>1.0</td>\n",
       "      <td>40</td>\n",
       "      <td>0</td>\n",
       "      <td>0.0</td>\n",
       "      <td>2.0</td>\n",
       "      <td>2.0</td>\n",
       "      <td>1.0</td>\n",
       "      <td>B01</td>\n",
       "      <td>True</td>\n",
       "    </tr>\n",
       "    <tr>\n",
       "      <th>92510</th>\n",
       "      <td>201600053887</td>\n",
       "      <td>0.0</td>\n",
       "      <td>40</td>\n",
       "      <td>0</td>\n",
       "      <td>0.0</td>\n",
       "      <td>2.0</td>\n",
       "      <td>1.0</td>\n",
       "      <td>1.0</td>\n",
       "      <td>B01</td>\n",
       "      <td>True</td>\n",
       "    </tr>\n",
       "    <tr>\n",
       "      <th>93734</th>\n",
       "      <td>201600054643</td>\n",
       "      <td>2.0</td>\n",
       "      <td>40</td>\n",
       "      <td>0</td>\n",
       "      <td>0.0</td>\n",
       "      <td>2.0</td>\n",
       "      <td>3.0</td>\n",
       "      <td>1.0</td>\n",
       "      <td>B01</td>\n",
       "      <td>True</td>\n",
       "    </tr>\n",
       "    <tr>\n",
       "      <th>93864</th>\n",
       "      <td>201600054720</td>\n",
       "      <td>1.0</td>\n",
       "      <td>40</td>\n",
       "      <td>0</td>\n",
       "      <td>0.0</td>\n",
       "      <td>1.0</td>\n",
       "      <td>0.0</td>\n",
       "      <td>1.0</td>\n",
       "      <td>A01</td>\n",
       "      <td>True</td>\n",
       "    </tr>\n",
       "    <tr>\n",
       "      <th>96147</th>\n",
       "      <td>201600056091</td>\n",
       "      <td>2.0</td>\n",
       "      <td>40</td>\n",
       "      <td>0</td>\n",
       "      <td>0.0</td>\n",
       "      <td>1.0</td>\n",
       "      <td>2.0</td>\n",
       "      <td>1.0</td>\n",
       "      <td>A01</td>\n",
       "      <td>True</td>\n",
       "    </tr>\n",
       "  </tbody>\n",
       "</table>\n",
       "<p>150 rows × 10 columns</p>\n",
       "</div>"
      ],
      "text/plain": [
       "       Identifiant_accident  Sens_circulation  Catégorie_véhicule  \\\n",
       "14057          201600008652               0.0                  40   \n",
       "14059          201600008653               1.0                  40   \n",
       "14062          201600008655               0.0                  40   \n",
       "17797          201600010923               0.0                  40   \n",
       "18126          201600011097               1.0                  40   \n",
       "...                     ...               ...                 ...   \n",
       "84851          201600049623               1.0                  40   \n",
       "92510          201600053887               0.0                  40   \n",
       "93734          201600054643               2.0                  40   \n",
       "93864          201600054720               1.0                  40   \n",
       "96147          201600056091               2.0                  40   \n",
       "\n",
       "       Nombre_occupants  Obstacle_fixe_heurté  Obstacle_mobile_heurté  \\\n",
       "14057                 0                   0.0                     2.0   \n",
       "14059                 0                   0.0                     2.0   \n",
       "14062                 0                   0.0                     1.0   \n",
       "17797                 1                   0.0                     1.0   \n",
       "18126                 0                   0.0                     2.0   \n",
       "...                 ...                   ...                     ...   \n",
       "84851                 0                   0.0                     2.0   \n",
       "92510                 0                   0.0                     2.0   \n",
       "93734                 0                   0.0                     2.0   \n",
       "93864                 0                   0.0                     1.0   \n",
       "96147                 0                   0.0                     1.0   \n",
       "\n",
       "       Point_de_choc_initial  Manoeuvre_princpale_pré-accident  \\\n",
       "14057                    1.0                               1.0   \n",
       "14059                    2.0                               1.0   \n",
       "14062                    2.0                               1.0   \n",
       "17797                    2.0                               1.0   \n",
       "18126                    1.0                               1.0   \n",
       "...                      ...                               ...   \n",
       "84851                    2.0                               1.0   \n",
       "92510                    1.0                               1.0   \n",
       "93734                    3.0                               1.0   \n",
       "93864                    0.0                               1.0   \n",
       "96147                    2.0                               1.0   \n",
       "\n",
       "      Identifiant_véhicule  transport_en_commun  \n",
       "14057                  B02                 True  \n",
       "14059                  A01                 True  \n",
       "14062                  A01                 True  \n",
       "17797                  A01                 True  \n",
       "18126                  B01                 True  \n",
       "...                    ...                  ...  \n",
       "84851                  B01                 True  \n",
       "92510                  B01                 True  \n",
       "93734                  B01                 True  \n",
       "93864                  A01                 True  \n",
       "96147                  A01                 True  \n",
       "\n",
       "[150 rows x 10 columns]"
      ]
     },
     "execution_count": 34,
     "metadata": {},
     "output_type": "execute_result"
    }
   ],
   "source": [
    " df_transport_en_commun_mask = vehicules_2016[\"transport_en_commun\"] == True\n",
    " df_transport_en_commun = vehicules_2016[df_transport_en_commun_mask]\n",
    "df_transport_en_commun"
   ]
  },
  {
   "cell_type": "markdown",
   "metadata": {},
   "source": [
    "## 3.3) affichez les dimensions de cette df :"
   ]
  },
  {
   "cell_type": "code",
   "execution_count": 35,
   "metadata": {},
   "outputs": [
    {
     "data": {
      "text/plain": [
       "(150, 10)"
      ]
     },
     "execution_count": 35,
     "metadata": {},
     "output_type": "execute_result"
    }
   ],
   "source": [
    "df_transport_en_commun.shape"
   ]
  },
  {
   "cell_type": "markdown",
   "metadata": {},
   "source": [
    "## 3.4) faite un pivot table : \n",
    "index => catégorie de véhicule  \n",
    "valeurs => moyenne du nombre d'occupants\n"
   ]
  },
  {
   "cell_type": "code",
   "execution_count": 36,
   "metadata": {},
   "outputs": [],
   "source": [
    "pivot_table_3_4 = df_transport_en_commun.pivot_table(index=\"Catégorie_véhicule\", values=\"Nombre_occupants\", aggfunc=\"mean\").rename(columns={'Nombre_occupants': 'moyenne_nombre_occupants'}).round(1)"
   ]
  },
  {
   "cell_type": "markdown",
   "metadata": {},
   "source": [
    "## 3.5) affichez votre pivot en tant que heatmap"
   ]
  },
  {
   "cell_type": "code",
   "execution_count": 37,
   "metadata": {},
   "outputs": [
    {
     "data": {
      "text/plain": [
       "<AxesSubplot:ylabel='Catégorie_véhicule'>"
      ]
     },
     "execution_count": 37,
     "metadata": {},
     "output_type": "execute_result"
    },
    {
     "data": {
      "image/png": "[encoded data removed]",
      "text/plain": [
       "<Figure size 432x288 with 2 Axes>"
      ]
     },
     "metadata": {
      "needs_background": "light"
     },
     "output_type": "display_data"
    }
   ],
   "source": [
    "sns.heatmap(pivot_table_3_4)"
   ]
  },
  {
   "cell_type": "markdown",
   "metadata": {},
   "source": [
    "# 4) Mapper les clefs d'un dictionnaire sur leur valeur dans une colonne"
   ]
  },
  {
   "cell_type": "code",
   "execution_count": 38,
   "metadata": {},
   "outputs": [],
   "source": [
    "info_vehicules = {\n",
    "1 : \"Bicyclette\",\n",
    "2 : \"Cyclomoteur <50cm3\",\n",
    "3 : \"Voiturette (Quadricycle à moteur carrossé) (anciennement voiturette ou tricycle à moteur)\",\n",
    "4 : \"Référence plus utilisée depuis 2006 (scooter immatriculé)\",\n",
    "5 : \"Référence plus utilisée depuis 2006 (motocyclette)\",\n",
    "6 : \"Référence plus utilisée depuis 2006 (side-car)\",\n",
    "7 : \"VL seul\",\n",
    "8 : \"Catégorie plus utilisée (VL + caravane)\",\n",
    "9 : \"Catégorie plus utilisée (VL + remorque)\",\n",
    "10 : \"VU seul 1,5T <= PTAC <= 3,5T avec ou sans remorque (anciennement VU seul 1,5T <= PTAC <= 3,5T)\",\n",
    "11 : \"Référence plus utilisée depuis 2006 (VU (10) + caravane)\",\n",
    "12 : \"Référence plus utilisée depuis 2006 (VU (10) + remorque)\",\n",
    "13 : \"PL seul 3,5T <PTCA <= 7,5T\",\n",
    "14 : \"PL seul > 7,5T\",\n",
    "15 : \"PL > 3,5T + remorque\",\n",
    "16 : \"Tracteur routier seul\",\n",
    "17 : \"Tracteur routier + semi-remorque\",\n",
    "18 : \"Référence plus utilisée depuis 2006 (transport en commun)\",\n",
    "19 : \"Référence plus utilisée depuis 2006 (tramway)\",\n",
    "20 : \"Engin spécial\",\n",
    "21 : \"Tracteur agricole\",\n",
    "30 : \"Scooter < 50 cm3\",\n",
    "31 : \"Motocyclette > 50 cm et <= 125 cm\",\n",
    "32 : \"Scooter >50cm et<=125cm\",\n",
    "33 : \"Motocyclette\",\n",
    "34 : \"Scooer\",\n",
    "35 : \"Quad\",\n",
    "36 : \"Quad lourd > 50 cm (Quadricycle à moteur non carrossé)\",\n",
    "37 : \"Autobus\",\n",
    "38 : \"Autocar\",\n",
    "39 : \"Train\",\n",
    "40 : \"Tramway\",\n",
    "99 : \"Autre véhicule\"}"
   ]
  },
  {
   "cell_type": "markdown",
   "metadata": {},
   "source": [
    "## 4.1) appliquez la fonction \"map\" sur la colonne catV, et passez lui en paramètre le dictionnaire info_vehicules"
   ]
  },
  {
   "cell_type": "code",
   "execution_count": null,
   "metadata": {},
   "outputs": [],
   "source": [
    "# map(lambda code:vehicules_2016.loc(vehicules_2016[\"Catégorie_vehicule\"]==code, ), info_vehicules.keys())"
   ]
  },
  {
   "cell_type": "markdown",
   "metadata": {},
   "source": [
    "## 4.2) faites de même avec les labels, sur la colonne obstacle_mobile en créant une nouvelle colonne label_obstacle_mobile"
   ]
  },
  {
   "cell_type": "code",
   "execution_count": 39,
   "metadata": {},
   "outputs": [],
   "source": [
    "labels = {\n",
    "0 : \"inconnu_0\",\n",
    "1 : \"Piéton\",\n",
    "2 : \"Véhicule\",\n",
    "4 : \"Véhicule sur rail\",\n",
    "5 : \"Animal domestique 6\",\n",
    "6 : \"Animal sauvage\",\n",
    "9 : \"Autre\",\n",
    "None : \"inconnu\"}"
   ]
  },
  {
   "cell_type": "markdown",
   "metadata": {},
   "source": [
    "## 4.3) faites un pivot table : nombre d'occupant par label de véhicule\n",
    "index => label du véhicule  \n",
    "values => somme du nombre d'occupant  \n",
    "colonnes => label_obstacle_mobile  "
   ]
  },
  {
   "cell_type": "markdown",
   "metadata": {},
   "source": [
    "## 4.4) faites un heatmap avec ce pivot\n",
    "title = \"Nombre d'accident par type de transport et obstacle\"\n",
    "options du sns.heatmap :  cmap=\"Reds\", square=True, annot=True, fmt=\"\", cbar=True\n",
    "\n",
    "utilisez : \n",
    "props = {\"rotation\" : 30, \"color\":\"green\", \"fontweight\":\"bold\"}\n",
    "plt.setp(ax.get_xticklabels(), **props)\n"
   ]
  },
  {
   "cell_type": "markdown",
   "metadata": {},
   "source": [
    "# C) Exo 3 : scikit learn"
   ]
  },
  {
   "cell_type": "markdown",
   "metadata": {},
   "source": [
    "# Scikit Learn"
   ]
  },
  {
   "cell_type": "markdown",
   "metadata": {},
   "source": [
    "# 0) Import de dataset\n",
    "https://archive.ics.uci.edu/ml/datasets/breast+cancer+wisconsin+(diagnostic)"
   ]
  },
  {
   "cell_type": "code",
   "execution_count": 45,
   "metadata": {},
   "outputs": [],
   "source": [
    "from sklearn import datasets"
   ]
  },
  {
   "cell_type": "code",
   "execution_count": 46,
   "metadata": {},
   "outputs": [],
   "source": [
    "cancer = datasets.load_breast_cancer()"
   ]
  },
  {
   "cell_type": "code",
   "execution_count": 47,
   "metadata": {},
   "outputs": [],
   "source": [
    "dataset = cancer"
   ]
  },
  {
   "cell_type": "code",
   "execution_count": 48,
   "metadata": {},
   "outputs": [
    {
     "name": "stdout",
     "output_type": "stream",
     "text": [
      ".. _breast_cancer_dataset:\n",
      "\n",
      "Breast cancer wisconsin (diagnostic) dataset\n",
      "--------------------------------------------\n",
      "\n",
      "**Data Set Characteristics:**\n",
      "\n",
      "    :Number of Instances: 569\n",
      "\n",
      "    :Number of Attributes: 30 numeric, predictive attributes and the class\n",
      "\n",
      "    :Attribute Information:\n",
      "        - radius (mean of distances from center to points on the perimeter)\n",
      "        - texture (standard deviation of gray-scale values)\n",
      "        - perimeter\n",
      "        - area\n",
      "        - smoothness (local variation in radius lengths)\n",
      "        - compactness (perimeter^2 / area - 1.0)\n",
      "        - concavity (severity of concave portions of the contour)\n",
      "        - concave points (number of concave portions of the contour)\n",
      "        - symmetry\n",
      "        - fractal dimension (\"coastline approximation\" - 1)\n",
      "\n",
      "        The mean, standard error, and \"worst\" or largest (mean of the three\n",
      "        worst/largest values) of these features were computed for each image,\n",
      "        resulting in 30 features.  For instance, field 0 is Mean Radius, field\n",
      "        10 is Radius SE, field 20 is Worst Radius.\n",
      "\n",
      "        - class:\n",
      "                - WDBC-Malignant\n",
      "                - WDBC-Benign\n",
      "\n",
      "    :Summary Statistics:\n",
      "\n",
      "    ===================================== ====== ======\n",
      "                                           Min    Max\n",
      "    ===================================== ====== ======\n",
      "    radius (mean):                        6.981  28.11\n",
      "    texture (mean):                       9.71   39.28\n",
      "    perimeter (mean):                     43.79  188.5\n",
      "    area (mean):                          143.5  2501.0\n",
      "    smoothness (mean):                    0.053  0.163\n",
      "    compactness (mean):                   0.019  0.345\n",
      "    concavity (mean):                     0.0    0.427\n",
      "    concave points (mean):                0.0    0.201\n",
      "    symmetry (mean):                      0.106  0.304\n",
      "    fractal dimension (mean):             0.05   0.097\n",
      "    radius (standard error):              0.112  2.873\n",
      "    texture (standard error):             0.36   4.885\n",
      "    perimeter (standard error):           0.757  21.98\n",
      "    area (standard error):                6.802  542.2\n",
      "    smoothness (standard error):          0.002  0.031\n",
      "    compactness (standard error):         0.002  0.135\n",
      "    concavity (standard error):           0.0    0.396\n",
      "    concave points (standard error):      0.0    0.053\n",
      "    symmetry (standard error):            0.008  0.079\n",
      "    fractal dimension (standard error):   0.001  0.03\n",
      "    radius (worst):                       7.93   36.04\n",
      "    texture (worst):                      12.02  49.54\n",
      "    perimeter (worst):                    50.41  251.2\n",
      "    area (worst):                         185.2  4254.0\n",
      "    smoothness (worst):                   0.071  0.223\n",
      "    compactness (worst):                  0.027  1.058\n",
      "    concavity (worst):                    0.0    1.252\n",
      "    concave points (worst):               0.0    0.291\n",
      "    symmetry (worst):                     0.156  0.664\n",
      "    fractal dimension (worst):            0.055  0.208\n",
      "    ===================================== ====== ======\n",
      "\n",
      "    :Missing Attribute Values: None\n",
      "\n",
      "    :Class Distribution: 212 - Malignant, 357 - Benign\n",
      "\n",
      "    :Creator:  Dr. William H. Wolberg, W. Nick Street, Olvi L. Mangasarian\n",
      "\n",
      "    :Donor: Nick Street\n",
      "\n",
      "    :Date: November, 1995\n",
      "\n",
      "This is a copy of UCI ML Breast Cancer Wisconsin (Diagnostic) datasets.\n",
      "https://goo.gl/U2Uwz2\n",
      "\n",
      "Features are computed from a digitized image of a fine needle\n",
      "aspirate (FNA) of a breast mass.  They describe\n",
      "characteristics of the cell nuclei present in the image.\n",
      "\n",
      "Separating plane described above was obtained using\n",
      "Multisurface Method-Tree (MSM-T) [K. P. Bennett, \"Decision Tree\n",
      "Construction Via Linear Programming.\" Proceedings of the 4th\n",
      "Midwest Artificial Intelligence and Cognitive Science Society,\n",
      "pp. 97-101, 1992], a classification method which uses linear\n",
      "programming to construct a decision tree.  Relevant features\n",
      "were selected using an exhaustive search in the space of 1-4\n",
      "features and 1-3 separating planes.\n",
      "\n",
      "The actual linear program used to obtain the separating plane\n",
      "in the 3-dimensional space is that described in:\n",
      "[K. P. Bennett and O. L. Mangasarian: \"Robust Linear\n",
      "Programming Discrimination of Two Linearly Inseparable Sets\",\n",
      "Optimization Methods and Software 1, 1992, 23-34].\n",
      "\n",
      "This database is also available through the UW CS ftp server:\n",
      "\n",
      "ftp ftp.cs.wisc.edu\n",
      "cd math-prog/cpo-dataset/machine-learn/WDBC/\n",
      "\n",
      ".. topic:: References\n",
      "\n",
      "   - W.N. Street, W.H. Wolberg and O.L. Mangasarian. Nuclear feature extraction \n",
      "     for breast tumor diagnosis. IS&T/SPIE 1993 International Symposium on \n",
      "     Electronic Imaging: Science and Technology, volume 1905, pages 861-870,\n",
      "     San Jose, CA, 1993.\n",
      "   - O.L. Mangasarian, W.N. Street and W.H. Wolberg. Breast cancer diagnosis and \n",
      "     prognosis via linear programming. Operations Research, 43(4), pages 570-577, \n",
      "     July-August 1995.\n",
      "   - W.H. Wolberg, W.N. Street, and O.L. Mangasarian. Machine learning techniques\n",
      "     to diagnose breast cancer from fine-needle aspirates. Cancer Letters 77 (1994) \n",
      "     163-171.\n"
     ]
    }
   ],
   "source": [
    "print (dataset[\"DESCR\"])"
   ]
  },
  {
   "cell_type": "markdown",
   "metadata": {},
   "source": [
    "# 1) récupérez x et y "
   ]
  },
  {
   "cell_type": "code",
   "execution_count": 58,
   "metadata": {},
   "outputs": [
    {
     "name": "stdout",
     "output_type": "stream",
     "text": [
      "dict_keys(['data', 'target', 'frame', 'target_names', 'DESCR', 'feature_names', 'filename'])\n"
     ]
    }
   ],
   "source": [
    "print(dataset.keys())"
   ]
  },
  {
   "cell_type": "code",
   "execution_count": 55,
   "metadata": {},
   "outputs": [
    {
     "ename": "NameError",
     "evalue": "name 'x' is not defined",
     "output_type": "error",
     "traceback": [
      "\u001b[0;31m---------------------------------------------------------------------------\u001b[0m",
      "\u001b[0;31mNameError\u001b[0m                                 Traceback (most recent call last)",
      "\u001b[0;32m<ipython-input-55-fc17d851ef81>\u001b[0m in \u001b[0;36m<module>\u001b[0;34m\u001b[0m\n\u001b[0;32m----> 1\u001b[0;31m \u001b[0mprint\u001b[0m\u001b[0;34m(\u001b[0m\u001b[0mx\u001b[0m\u001b[0;34m)\u001b[0m\u001b[0;34m\u001b[0m\u001b[0;34m\u001b[0m\u001b[0m\n\u001b[0m",
      "\u001b[0;31mNameError\u001b[0m: name 'x' is not defined"
     ]
    }
   ],
   "source": []
  },
  {
   "cell_type": "markdown",
   "metadata": {},
   "source": [
    "# 2) séparez le jeu d'apprentissage du jeu de test"
   ]
  },
  {
   "cell_type": "markdown",
   "metadata": {},
   "source": [
    "# 3) prendre un svm.SVC et le tester"
   ]
  },
  {
   "cell_type": "markdown",
   "metadata": {},
   "source": [
    "## 4.1) aller au delà des paramètres par défaut avec un grid search"
   ]
  },
  {
   "cell_type": "markdown",
   "metadata": {},
   "source": [
    "# 5) Standardisons les valeurs pour faire de la data-prep"
   ]
  },
  {
   "cell_type": "code",
   "execution_count": 44,
   "metadata": {},
   "outputs": [
    {
     "ename": "NameError",
     "evalue": "name 'X_train' is not defined",
     "output_type": "error",
     "traceback": [
      "\u001b[0;31m---------------------------------------------------------------------------\u001b[0m",
      "\u001b[0;31mNameError\u001b[0m                                 Traceback (most recent call last)",
      "\u001b[0;32m<ipython-input-44-d4a675a37413>\u001b[0m in \u001b[0;36m<module>\u001b[0;34m\u001b[0m\n\u001b[1;32m      1\u001b[0m \u001b[0;32mfrom\u001b[0m \u001b[0msklearn\u001b[0m\u001b[0;34m.\u001b[0m\u001b[0mpreprocessing\u001b[0m \u001b[0;32mimport\u001b[0m \u001b[0mStandardScaler\u001b[0m\u001b[0;34m\u001b[0m\u001b[0;34m\u001b[0m\u001b[0m\n\u001b[1;32m      2\u001b[0m \u001b[0mscaler\u001b[0m \u001b[0;34m=\u001b[0m \u001b[0mStandardScaler\u001b[0m\u001b[0;34m(\u001b[0m\u001b[0;34m)\u001b[0m\u001b[0;34m\u001b[0m\u001b[0;34m\u001b[0m\u001b[0m\n\u001b[0;32m----> 3\u001b[0;31m \u001b[0mscaler\u001b[0m\u001b[0;34m.\u001b[0m\u001b[0mfit\u001b[0m\u001b[0;34m(\u001b[0m\u001b[0mX_train\u001b[0m\u001b[0;34m)\u001b[0m                 \u001b[0;31m# Il ne faut fiter que sur les data d'entrainement\u001b[0m\u001b[0;34m\u001b[0m\u001b[0;34m\u001b[0m\u001b[0m\n\u001b[0m\u001b[1;32m      4\u001b[0m \u001b[0mX_train\u001b[0m \u001b[0;34m=\u001b[0m \u001b[0mscaler\u001b[0m\u001b[0;34m.\u001b[0m\u001b[0mtransform\u001b[0m\u001b[0;34m(\u001b[0m\u001b[0mX_train\u001b[0m\u001b[0;34m)\u001b[0m\u001b[0;34m\u001b[0m\u001b[0;34m\u001b[0m\u001b[0m\n\u001b[1;32m      5\u001b[0m \u001b[0mX_test\u001b[0m  \u001b[0;34m=\u001b[0m \u001b[0mscaler\u001b[0m\u001b[0;34m.\u001b[0m\u001b[0mtransform\u001b[0m\u001b[0;34m(\u001b[0m\u001b[0mX_test\u001b[0m\u001b[0;34m)\u001b[0m  \u001b[0;31m# apply same transformation to test data\u001b[0m\u001b[0;34m\u001b[0m\u001b[0;34m\u001b[0m\u001b[0m\n",
      "\u001b[0;31mNameError\u001b[0m: name 'X_train' is not defined"
     ]
    }
   ],
   "source": [
    "from sklearn.preprocessing import StandardScaler\n",
    "scaler = StandardScaler()\n",
    "scaler.fit(X_train)                 # Il ne faut fiter que sur les data d'entrainement\n",
    "X_train = scaler.transform(X_train)\n",
    "X_test  = scaler.transform(X_test)  # apply same transformation to test data"
   ]
  },
  {
   "cell_type": "markdown",
   "metadata": {},
   "source": [
    "# 6) Relancez le SVM"
   ]
  },
  {
   "cell_type": "markdown",
   "metadata": {},
   "source": [
    "# 7) essayer avec un Random Forest"
   ]
  }
 ],
 "metadata": {
  "kernelspec": {
   "display_name": "Python 3",
   "language": "python",
   "name": "python3"
  },
  "language_info": {
   "codemirror_mode": {
    "name": "ipython",
    "version": 3
   },
   "file_extension": ".py",
   "mimetype": "text/x-python",
   "name": "python",
   "nbconvert_exporter": "python",
   "pygments_lexer": "ipython3",
   "version": "3.8.5"
  }
 },
 "nbformat": 4,
 "nbformat_minor": 4
}
